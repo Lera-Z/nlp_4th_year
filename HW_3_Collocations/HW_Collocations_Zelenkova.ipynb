{
 "cells": [
  {
   "cell_type": "code",
   "execution_count": 6,
   "metadata": {
    "collapsed": true
   },
   "outputs": [],
   "source": [
    "import nltk\n",
    "import pandas as pd\n",
    "from nltk.collocations import *\n",
    "from nltk.metrics.spearman import *"
   ]
  },
  {
   "cell_type": "code",
   "execution_count": 38,
   "metadata": {
    "collapsed": false
   },
   "outputs": [],
   "source": [
    "# data"
   ]
  },
  {
   "cell_type": "code",
   "execution_count": 3,
   "metadata": {
    "collapsed": true
   },
   "outputs": [],
   "source": [
    "data = pd.read_csv('court-V-N.csv')"
   ]
  },
  {
   "cell_type": "code",
   "execution_count": 7,
   "metadata": {
    "collapsed": false
   },
   "outputs": [],
   "source": [
    "rows = list(map(list, data.values))"
   ]
  },
  {
   "cell_type": "code",
   "execution_count": 9,
   "metadata": {
    "collapsed": false
   },
   "outputs": [],
   "source": [
    "bigram_measures = nltk.collocations.BigramAssocMeasures()"
   ]
  },
  {
   "cell_type": "code",
   "execution_count": 10,
   "metadata": {
    "collapsed": true
   },
   "outputs": [],
   "source": [
    "finder = BigramCollocationFinder.from_documents(rows)"
   ]
  },
  {
   "cell_type": "code",
   "execution_count": 60,
   "metadata": {
    "collapsed": true
   },
   "outputs": [],
   "source": [
    "size = len([item for sublist in rows for item in sublist])"
   ]
  },
  {
   "cell_type": "code",
   "execution_count": 69,
   "metadata": {
    "collapsed": false
   },
   "outputs": [
    {
     "data": {
      "text/plain": [
       "5095"
      ]
     },
     "execution_count": 69,
     "metadata": {},
     "output_type": "execute_result"
    }
   ],
   "source": [
    "size"
   ]
  },
  {
   "cell_type": "code",
   "execution_count": 62,
   "metadata": {
    "collapsed": false
   },
   "outputs": [],
   "source": [
    "size_set = len(set([item for sublist in rows for item in sublist]))"
   ]
  },
  {
   "cell_type": "code",
   "execution_count": 70,
   "metadata": {
    "collapsed": false
   },
   "outputs": [
    {
     "data": {
      "text/plain": [
       "1426"
      ]
     },
     "execution_count": 70,
     "metadata": {},
     "output_type": "execute_result"
    }
   ],
   "source": [
    "size_set"
   ]
  },
  {
   "cell_type": "markdown",
   "metadata": {},
   "source": [
    "### 'Золотой стандарт'"
   ]
  },
  {
   "cell_type": "code",
   "execution_count": 65,
   "metadata": {
    "collapsed": false
   },
   "outputs": [],
   "source": [
    "gs = \\\n",
    "[('СУД ', 'ПРИЗНАТЬ '), ('СУД ', 'ВЫНЕСТИ '), \\\n",
    " ('СУД ', 'ОТКАЗАТЬ '), ('СУД ', 'ПРИГОВОРИТЬ '), ('СУД ', 'РАССМОТРЕТЬ '), \\\n",
    " ('УДОВЛЕТВОРИТЬ ', 'ИСК '), ('СУД ', 'ОТКЛОНИТЬ '), ('ПРИНЯТЬ ', 'РЕШЕНИЕ '), \\\n",
    " ('УДОВЛЕТВОРИТЬ', 'ХОДАТАЙСТВО'), ('ДОБИТЬСЯ','ПЕРЕСМОТР')]"
   ]
  },
  {
   "cell_type": "code",
   "execution_count": null,
   "metadata": {
    "collapsed": false
   },
   "outputs": [],
   "source": []
  },
  {
   "cell_type": "markdown",
   "metadata": {},
   "source": [
    "### Сравниваю две разные метрики - raw_freq и chi_sq"
   ]
  },
  {
   "cell_type": "code",
   "execution_count": 47,
   "metadata": {
    "collapsed": false
   },
   "outputs": [
    {
     "name": "stdout",
     "output_type": "stream",
     "text": [
      "[('СУД ', 'ПРИЗНАТЬ '), ('СУД ', 'УДОВЛЕТВОРИТЬ '), ('СУД ', 'ВЫНЕСТИ '), ('СУД ', 'ПРИНЯТЬ '), ('СУД ', 'ОТКАЗАТЬ '), ('СУД ', 'ПРИГОВОРИТЬ '), ('СУД ', 'РАССМОТРЕТЬ '), ('УДОВЛЕТВОРИТЬ ', 'ИСК '), ('СУД ', 'ОТКЛОНИТЬ '), ('ПРИНЯТЬ ', 'РЕШЕНИЕ ')]\n"
     ]
    }
   ],
   "source": [
    "finder.apply_freq_filter(3)\n",
    "top_raw_fr = finder.nbest(bigram_measures.raw_freq, 10)\n",
    "print(top_raw_fr)"
   ]
  },
  {
   "cell_type": "code",
   "execution_count": 52,
   "metadata": {
    "collapsed": false
   },
   "outputs": [
    {
     "name": "stdout",
     "output_type": "stream",
     "text": [
      "[('УСИЛИТЬ ', 'КАТАСТРОФА '), ('НАДЗОРНЫЙ ', 'ОРГАН '), ('ОСВОБОДИТЬ ', 'ЗАЛОГ '), ('МЕРА ', 'ПРЕСЕЧЕНИЕ '), ('ОПЕРАТОР ', 'АВТОМОБИЛЬНЫЙ '), ('ФАКТИЧЕСКИЙ ', 'УЧАСТНИК '), ('ЛИШЕНИЕ ', 'СВОБОДА '), ('ПРОЙТИ ', 'ПРЕНИЕ '), ('ТАМОЖЕННИК ', 'НЕДЕЙСТВИТЕЛЬНЫЙ '), ('ПРЕКРАТИТЬ ', 'ПРОИЗВОДСТВО ')]\n"
     ]
    }
   ],
   "source": [
    "finder.apply_freq_filter(3)\n",
    "top_chi = finder.nbest(bigram_measures.chi_sq, 10)\n",
    "print(top_chi)"
   ]
  },
  {
   "cell_type": "markdown",
   "metadata": {},
   "source": [
    "### Spearman"
   ]
  },
  {
   "cell_type": "code",
   "execution_count": 53,
   "metadata": {
    "collapsed": false
   },
   "outputs": [
    {
     "name": "stdout",
     "output_type": "stream",
     "text": [
      "0.7\n"
     ]
    }
   ],
   "source": [
    "print('%0.1f' % spearman_correlation(ranks_from_sequence(gs), ranks_from_sequence(top_raw_fr)))"
   ]
  },
  {
   "cell_type": "code",
   "execution_count": 54,
   "metadata": {
    "collapsed": false
   },
   "outputs": [
    {
     "name": "stdout",
     "output_type": "stream",
     "text": [
      "0.0\n"
     ]
    }
   ],
   "source": [
    "print('%0.1f' % spearman_correlation(ranks_from_sequence(gs), ranks_from_sequence(top_chi)))"
   ]
  },
  {
   "cell_type": "markdown",
   "metadata": {},
   "source": [
    "- в принципе и вручную можно сравнить список top_chi с СЗ и посмотреть отдельно на top_chi - он явно похуже top_raw_fr"
   ]
  },
  {
   "cell_type": "markdown",
   "metadata": {},
   "source": [
    "### Отчет"
   ]
  },
  {
   "cell_type": "markdown",
   "metadata": {},
   "source": [
    "(0) какой датасет - корпус, количество токенов; для каждого метода/параметра метода указать, (а) какие коллокации, полученные методом i, не входят в Ваш золотой стандарт, (б) какие попали ошибочно (предложите объяснение - откуда взялась такая ошибка, что можно сделать, чтобы ее устранить), (в) какие у Вас не попоали в ЗС, но вы думаете, что это полезные коллокации."
   ]
  },
  {
   "cell_type": "markdown",
   "metadata": {},
   "source": [
    "size = 5095 токенов (или set - 1426)"
   ]
  },
  {
   "cell_type": "markdown",
   "metadata": {},
   "source": [
    "1)   \n",
    "a) Какие коллокации, полученные методом raw_freq, не попали в ЗС: ('СУД ', 'УДОВЛЕТВОРИТЬ '), ('СУД ', 'ПРИНЯТЬ ')  \n",
    "b) Какие попали ошибочно: мне кажется, в raw_freq все коллокации OK.  \n",
    "с) В ЗС можно было бы добавить ('СУД ', 'УДОВЛЕТВОРИТЬ '), ('СУД ', 'ПРИНЯТЬ ')"
   ]
  },
  {
   "cell_type": "markdown",
   "metadata": {},
   "source": [
    "2)  \n",
    "a) Какие коллокации, полученные методом chi_sq, не попали в ЗС: все  \n",
    "b) Какие попали ошибочно: ('УСИЛИТЬ ', 'КАТАСТРОФА '), ('ОПЕРАТОР ', 'АВТОМОБИЛЬНЫЙ '), ('ТАМОЖЕННИК ', 'НЕДЕЙСТВИТЕЛЬНЫЙ ')  - вообще немного странные коллокации, а тем более для темы \"Суд\". Может быть, попался какой-то один текст (тексты), где было их очень много, и они вышли в топ  \n",
    "с) В ЗС можно было бы добавить ('ОСВОБОДИТЬ ', 'ЗАЛОГ '), ('МЕРА ', 'ПРЕСЕЧЕНИЕ '), ('ЛИШЕНИЕ ', 'СВОБОДА ')"
   ]
  },
  {
   "cell_type": "code",
   "execution_count": null,
   "metadata": {
    "collapsed": true
   },
   "outputs": [],
   "source": []
  }
 ],
 "metadata": {
  "anaconda-cloud": {},
  "kernelspec": {
   "display_name": "Python [conda root]",
   "language": "python",
   "name": "conda-root-py"
  },
  "language_info": {
   "codemirror_mode": {
    "name": "ipython",
    "version": 3
   },
   "file_extension": ".py",
   "mimetype": "text/x-python",
   "name": "python",
   "nbconvert_exporter": "python",
   "pygments_lexer": "ipython3",
   "version": "3.5.2"
  }
 },
 "nbformat": 4,
 "nbformat_minor": 2
}
