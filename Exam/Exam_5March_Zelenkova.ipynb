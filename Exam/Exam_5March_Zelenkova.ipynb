{
 "cells": [
  {
   "cell_type": "markdown",
   "metadata": {},
   "source": [
    "# Зеленкова Лера\n",
    "### 1 вариант"
   ]
  },
  {
   "cell_type": "markdown",
   "metadata": {},
   "source": [
    "## Задание 1"
   ]
  },
  {
   "cell_type": "markdown",
   "metadata": {},
   "source": [
    "1. Вар. 1. Для лексемы \"партия\" выберите 2 контекста со значением политическая партия и 2 контекста со значением партия товара длиной 8-12 слов. Из каждого контекста выберите значимые леммы. Вычислите коэффициент Дайса для попарной близости контекстов. Упорядочите контексты по близости. В ответе приведите код или подсчеты, а также получившийся порядок."
   ]
  },
  {
   "cell_type": "code",
   "execution_count": 41,
   "metadata": {
    "collapsed": true
   },
   "outputs": [],
   "source": [
    "# https://en.wikibooks.org/wiki/Algorithm_Implementation/Strings/Dice%27s_coefficient#Python\n",
    "\n",
    "def dice_coefficient(a, b):\n",
    "    \"\"\"dice coefficient 2nt/na + nb.\"\"\"\n",
    "    if not len(a) or not len(b): return 0.0\n",
    "    if len(a) == 1:  a=a+'.'\n",
    "    if len(b) == 1:  b=b+'.'\n",
    "    \n",
    "    a_bigram_list=[]\n",
    "    for i in range(len(a)-1):\n",
    "        a_bigram_list.append(a[i:i+2])\n",
    "    b_bigram_list=[]\n",
    "    for i in range(len(b)-1):\n",
    "        b_bigram_list.append(b[i:i+2])\n",
    "      \n",
    "    a_bigrams = set(a_bigram_list)\n",
    "    b_bigrams = set(b_bigram_list)\n",
    "    overlap = len(a_bigrams & b_bigrams)\n",
    "    dice_coeff = overlap * 2.0/(len(a_bigrams) + len(b_bigrams))\n",
    "    return dice_coeff"
   ]
  },
  {
   "cell_type": "code",
   "execution_count": 52,
   "metadata": {
    "collapsed": false
   },
   "outputs": [],
   "source": [
    "party_politic = ['Участники конференции \"Россия 2003: выборы и религиозные конфессии\", которую провела в начале марта дугинская партия \"Евразия\", исходили практически из того же тезиса.',\n",
    "                'Конечно, существует ещё огромное количество чисто показушных формальных молодёжных движений, которыми не грешит обзавестись каждая хоть немного уважающая себя партия.']\n",
    "\n",
    "politic_important_lemmas = [['конференция', 'тезис'], ['движение']]"
   ]
  },
  {
   "cell_type": "code",
   "execution_count": 91,
   "metadata": {
    "collapsed": false
   },
   "outputs": [],
   "source": [
    "party_goods = ['Он хочет чувствовать себя бизнесменом, которому нужна партия фирменного товара.',\n",
    "              'По предварительным данным, наркоторговцы планировали доставить партию наркотиков в уругвайскую столицу Монтевидео.']\n",
    "\n",
    "party_important_lemmas = [['бизнесмен', 'товар'], ['наркотики', 'наркоторговцы']]"
   ]
  },
  {
   "cell_type": "code",
   "execution_count": 92,
   "metadata": {
    "collapsed": false
   },
   "outputs": [],
   "source": [
    "res = dict()\n",
    "for txt1 in party_politic:\n",
    "    for txt2 in party_goods:\n",
    "        res[dice_coefficient(txt1, txt2)] = txt1+'||||'+' \\n '+txt2"
   ]
  },
  {
   "cell_type": "code",
   "execution_count": 93,
   "metadata": {
    "collapsed": false
   },
   "outputs": [
    {
     "name": "stdout",
     "output_type": "stream",
     "text": [
      "0.32978723404255317: Участники конференции \"Россия 2003: выборы и религиозные конфессии\", которую провела в начале марта дугинская партия \"Евразия\", исходили практически из того же тезиса.|||| \n",
      " Он хочет чувствовать себя бизнесменом, которому нужна партия фирменного товара.\n",
      "0.357487922705314: Конечно, существует ещё огромное количество чисто показушных формальных молодёжных движений, которыми не грешит обзавестись каждая хоть немного уважающая себя партия.|||| \n",
      " По предварительным данным, наркоторговцы планировали доставить партию наркотиков в уругвайскую столицу Монтевидео.\n",
      "0.39215686274509803: Участники конференции \"Россия 2003: выборы и религиозные конфессии\", которую провела в начале марта дугинская партия \"Евразия\", исходили практически из того же тезиса.|||| \n",
      " По предварительным данным, наркоторговцы планировали доставить партию наркотиков в уругвайскую столицу Монтевидео.\n",
      "0.450261780104712: Конечно, существует ещё огромное количество чисто показушных формальных молодёжных движений, которыми не грешит обзавестись каждая хоть немного уважающая себя партия.|||| \n",
      " Он хочет чувствовать себя бизнесменом, которому нужна партия фирменного товара.\n"
     ]
    }
   ],
   "source": [
    "for key in sorted(res):\n",
    "    print(\"%s: %s\" % (key, res[key]))"
   ]
  },
  {
   "cell_type": "markdown",
   "metadata": {},
   "source": [
    "## Задание 2"
   ]
  },
  {
   "cell_type": "markdown",
   "metadata": {},
   "source": [
    "  2. Вар. 1. Задание на WordNet 1) Найти все значения (синсеты) для лексемы cup, 2) найти гиперонимы для значения лексемы cup - кубок, 3) вычислите одним из сопобов расстояние: (tea, coffee), (container, aretefact). Какое расстояние меньше. Соответствует ли это Вашей интуиции\n",
    "  \n"
   ]
  },
  {
   "cell_type": "code",
   "execution_count": 94,
   "metadata": {
    "collapsed": true
   },
   "outputs": [],
   "source": [
    "from nltk.corpus import wordnet"
   ]
  },
  {
   "cell_type": "code",
   "execution_count": 95,
   "metadata": {
    "collapsed": false
   },
   "outputs": [
    {
     "name": "stdout",
     "output_type": "stream",
     "text": [
      "Synset('cup.n.01') a small open container usually used for drinking; usually has a handle\n",
      "Synset('cup.n.02') the quantity a cup will hold\n",
      "Synset('cup.n.03') any cup-shaped concavity\n",
      "Synset('cup.n.04') a United States liquid unit equal to 8 fluid ounces\n",
      "Synset('cup.n.05') cup-shaped plant organ\n",
      "Synset('cup.n.06') a punch served in a pitcher instead of a punch bowl\n",
      "Synset('cup.n.07') the hole (or metal container in the hole) on a golf green\n",
      "Synset('cup.n.08') a large metal vessel with two handles that is awarded as a trophy to the winner of a competition\n",
      "Synset('cup.v.01') form into the shape of a cup\n",
      "Synset('cup.v.02') put into a cup\n",
      "Synset('cup.v.03') treat by applying evacuated cups to the patient's skin\n"
     ]
    }
   ],
   "source": [
    "band = wordnet.synsets('cup')\n",
    "for ss in band:\n",
    "    print(ss, ss.definition())"
   ]
  },
  {
   "cell_type": "code",
   "execution_count": 96,
   "metadata": {
    "collapsed": false
   },
   "outputs": [
    {
     "name": "stdout",
     "output_type": "stream",
     "text": [
      "Synset('trophy.n.02') something given as a token of victory\n"
     ]
    }
   ],
   "source": [
    "for ss in band[7].hypernyms():\n",
    "    print(ss, ss.definition())"
   ]
  },
  {
   "cell_type": "code",
   "execution_count": 97,
   "metadata": {
    "collapsed": false
   },
   "outputs": [],
   "source": [
    "tea = wordnet.synsets('tea')[0]\n",
    "cof = wordnet.synsets('coffee')[0]\n",
    "contain = wordnet.synsets('container')[0]\n",
    "artef = wordnet.synsets('artefact')[0]"
   ]
  },
  {
   "cell_type": "code",
   "execution_count": 98,
   "metadata": {
    "collapsed": false
   },
   "outputs": [
    {
     "data": {
      "text/plain": [
       "'any object that can be used to hold things (especially a large metal boxlike object of standardized dimensions that can be loaded from one form of transport to another)'"
      ]
     },
     "execution_count": 98,
     "metadata": {},
     "output_type": "execute_result"
    }
   ],
   "source": [
    "wordnet.synsets('artefact')[0].definition()\n",
    "wordnet.synsets('container')[0].definition()"
   ]
  },
  {
   "cell_type": "code",
   "execution_count": 99,
   "metadata": {
    "collapsed": false
   },
   "outputs": [
    {
     "name": "stdout",
     "output_type": "stream",
     "text": [
      "0.8888888888888888\n"
     ]
    }
   ],
   "source": [
    "print(tea.wup_similarity(cof))"
   ]
  },
  {
   "cell_type": "code",
   "execution_count": 100,
   "metadata": {
    "collapsed": false
   },
   "outputs": [
    {
     "name": "stdout",
     "output_type": "stream",
     "text": [
      "0.8333333333333334\n"
     ]
    }
   ],
   "source": [
    "print(contain.wup_similarity(artef))"
   ]
  },
  {
   "cell_type": "markdown",
   "metadata": {},
   "source": [
    "(tea, coffee) ближе, чем (container, aretefact). Соответствует интуиции, так как все-таки артефакт - это более общее, широкое понятие, чем контейнер, а чай и кофе находятся \"на одном уровне\"."
   ]
  },
  {
   "cell_type": "markdown",
   "metadata": {},
   "source": [
    "## Задание 3"
   ]
  },
  {
   "cell_type": "markdown",
   "metadata": {},
   "source": [
    "3. Вар. 1. Возьмите готовую модель word2vec (см. последнее практическое занятие). Вычислите топ 10 слов для слова \"начальник\". Определите топ 5 близких к слову \"начальник\" по русскому ворд-нету: http://ruwordnet.ru/en/ или по РуТез http://www.labinform.ru/pub/ruthes/ (любым способом, опишите, как Вы искали близкие слова). Каков процент пересечения? Какие, полученные в выбранной Вами модели слова, на Ваш взгляд, попали в топ 10 близких ошибочно. Попробуйте прокомментировать, почему"
   ]
  },
  {
   "cell_type": "code",
   "execution_count": 101,
   "metadata": {
    "collapsed": true
   },
   "outputs": [],
   "source": [
    "import gensim\n",
    "from gensim.models import KeyedVectors"
   ]
  },
  {
   "cell_type": "code",
   "execution_count": 102,
   "metadata": {
    "collapsed": false
   },
   "outputs": [],
   "source": [
    "vectors = KeyedVectors.load_word2vec_format('/Users/Valeriya/Desktop/ruscorpora_mean_hs.model.bin', binary=True)"
   ]
  },
  {
   "cell_type": "code",
   "execution_count": 103,
   "metadata": {
    "collapsed": false
   },
   "outputs": [
    {
     "name": "stdout",
     "output_type": "stream",
     "text": [
      "[('замначальник_S', 0.6262381076812744), ('заведующий_S', 0.5692601203918457), ('комендант_S', 0.5626716017723083), ('дежурный_S', 0.5406119227409363), ('инспектор_S', 0.5218731760978699), ('шеф_S', 0.5208275318145752), ('оперуполномоченный_S', 0.49783241748809814), ('начальство_S', 0.4953279495239258), ('руководитель_S', 0.4885033965110779), ('командир_S', 0.4845767021179199)]\n"
     ]
    }
   ],
   "source": [
    "print(vectors.most_similar(positive=['начальник_S'], topn=10))"
   ]
  },
  {
   "cell_type": "markdown",
   "metadata": {},
   "source": [
    "Из http://ruwordnet.ru/en/ :  ГЛАВА,\n",
    "РУКОВОДЯЩИЕ КАДРЫ,\n",
    "РУКОВОДЯЩИЙ РАБОТНИК,\n",
    "РУКОВОДИТЕЛЬ,\n",
    "РУКОВОДИТЕЛЬНИЦА "
   ]
  },
  {
   "cell_type": "markdown",
   "metadata": {},
   "source": [
    "Пересечение: одно слово (руководитель)"
   ]
  },
  {
   "cell_type": "markdown",
   "metadata": {},
   "source": [
    "Ошибочно попавшие в top-10 слова: мне кажется, таких нет, все более-менее осмысленно туда попали."
   ]
  },
  {
   "cell_type": "markdown",
   "metadata": {},
   "source": [
    "## Задание 4"
   ]
  },
  {
   "cell_type": "markdown",
   "metadata": {
    "collapsed": true
   },
   "source": [
    "4. Вар 1. Найдите лишнее слово; \"говорить, сказать, писать, удивляться\""
   ]
  },
  {
   "cell_type": "code",
   "execution_count": 104,
   "metadata": {
    "collapsed": false
   },
   "outputs": [
    {
     "name": "stdout",
     "output_type": "stream",
     "text": [
      "удивляться_V\n"
     ]
    }
   ],
   "source": [
    "print(vectors.doesnt_match('говорить_V, сказать_V, писать_V, удивляться_V'.split()))"
   ]
  },
  {
   "cell_type": "code",
   "execution_count": null,
   "metadata": {
    "collapsed": true
   },
   "outputs": [],
   "source": []
  }
 ],
 "metadata": {
  "anaconda-cloud": {},
  "kernelspec": {
   "display_name": "Python [conda root]",
   "language": "python",
   "name": "conda-root-py"
  },
  "language_info": {
   "codemirror_mode": {
    "name": "ipython",
    "version": 3
   },
   "file_extension": ".py",
   "mimetype": "text/x-python",
   "name": "python",
   "nbconvert_exporter": "python",
   "pygments_lexer": "ipython3",
   "version": "3.5.2"
  }
 },
 "nbformat": 4,
 "nbformat_minor": 2
}
