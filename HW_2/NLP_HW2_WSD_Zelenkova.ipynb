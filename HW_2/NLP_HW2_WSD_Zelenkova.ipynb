{
 "cells": [
  {
   "cell_type": "code",
   "execution_count": 1,
   "metadata": {
    "collapsed": false
   },
   "outputs": [],
   "source": [
    "from nltk.corpus import wordnet"
   ]
  },
  {
   "cell_type": "markdown",
   "metadata": {},
   "source": [
    "<b>1) Найти все значения (синсеты) для лексемы band<b>"
   ]
  },
  {
   "cell_type": "code",
   "execution_count": 8,
   "metadata": {
    "collapsed": false
   },
   "outputs": [
    {
     "name": "stdout",
     "output_type": "stream",
     "text": [
      "Synset('set.n.05') an unofficial association of people or groups\n",
      "Synset('band.n.02') instrumentalists not including string players\n",
      "Synset('band.n.03') a stripe or stripes of contrasting color\n",
      "Synset('band.n.04') an adornment consisting of a strip of a contrasting color or material\n",
      "Synset('dance_band.n.01') a group of musicians playing popular music for dancing\n",
      "Synset('band.n.06') a range of frequencies between two limits\n",
      "Synset('band.n.07') a thin flat strip of flexible material that is worn around the body or one of the limbs (especially to decorate the body)\n",
      "Synset('isthmus.n.02') a cord-like tissue connecting two larger parts of an anatomical structure\n",
      "Synset('ring.n.08') jewelry consisting of a circlet of precious metal (often set with jewels) worn on the finger\n",
      "Synset('band.n.10') a driving belt in machinery\n",
      "Synset('band.n.11') a thin flat strip or loop of flexible material that goes around or over something else, typically to hold it together or as a decoration\n",
      "Synset('band.n.12') a strip of material attached to the leg of a bird to identify it (as in studies of bird migration)\n",
      "Synset('band.n.13') a restraint put around something to hold it together\n",
      "Synset('band.v.01') bind or tie together, as with a band\n",
      "Synset('ring.v.06') attach a ring to the foot of, in order to identify\n"
     ]
    }
   ],
   "source": [
    "band = wordnet.synsets('band')\n",
    "for ss in band:\n",
    "    print(ss, ss.definition())"
   ]
  },
  {
   "cell_type": "markdown",
   "metadata": {},
   "source": [
    "<b>2) Найти определение для лексемы band в значении (а) \"группа людей\" и в значении (b) \"ленточка\"</b>"
   ]
  },
  {
   "cell_type": "code",
   "execution_count": 10,
   "metadata": {
    "collapsed": false
   },
   "outputs": [
    {
     "name": "stdout",
     "output_type": "stream",
     "text": [
      "Synset('set.n.05') an unofficial association of people or groups\n",
      "Synset('band.n.03') a stripe or stripes of contrasting color\n"
     ]
    }
   ],
   "source": [
    "print(band[0], band[0].definition())\n",
    "print(band[2], band[2].definition())"
   ]
  },
  {
   "cell_type": "markdown",
   "metadata": {},
   "source": [
    "<b>3) Найдите два произвольных контекста для слова band в значениях  (а) \"группа людей\" и в значении (b) \"ленточка\"; продемонстрируйте на них действие алгоритма Леска для разрешения неоднозначности</b>"
   ]
  },
  {
   "cell_type": "code",
   "execution_count": 11,
   "metadata": {
    "collapsed": false
   },
   "outputs": [
    {
     "name": "stdout",
     "output_type": "stream",
     "text": [
      "['Templates', 'in', 'the', 'form', 'of', 'equation', 'tree', 'structures', 'are', 'exploited', 'also', 'by', 'Koncel-Kedziorski', 'and', 'colleagues', '(2015)', 'where', 'integer', 'linear', 'programming', 'is', 'used', 'for', 'generating', 'the', 'space', 'of', 'trees', 'and', 'machine-learning', 'techniques', 'are', 'used', 'to', 'select', 'the', 'best', 'matching', 'tree']\n",
      "['I', 'have', 'a', 'picture', 'of', 'what', 'I', 'estimate', 'to', 'be', 'a', '6-', 'year-old', 'girl', 'in', 'a', 'gingham', 'party', 'dress', 'white', 'tights', 'a', 'little', 'red', 'band', 'around', 'her', 'wrist', 'Mary', 'Janes', 'and', 'she', 'is', 'lying', 'on', 'the', 'ground', 'and', 'her', 'head', 'is', 'gone']\n"
     ]
    }
   ],
   "source": [
    "sent1 = 'In the story a wagon master, Buck (Poitier), leads a band of ex-slaves from Louisiana to a new life as homesteaders in Colorado.'\n",
    "sent2 = 'I have a picture of what I estimate to be a 6- year-old girl in a gingham party dress, white tights, a little red band around her wrist, Mary Janes, and she is lying on the ground and her head is gone.'\n",
    "\n",
    "sent2_tokens = [word.strip('.,') for word in sent2.split(' ')]\n",
    "print(sent1_tokens)\n",
    "print(sent2_tokens)"
   ]
  },
  {
   "cell_type": "code",
   "execution_count": 12,
   "metadata": {
    "collapsed": false
   },
   "outputs": [
    {
     "name": "stdout",
     "output_type": "stream",
     "text": [
      "a strip of material attached to the leg of a bird to identify it (as in studies of bird migration)\n",
      "a thin flat strip of flexible material that is worn around the body or one of the limbs (especially to decorate the body)\n"
     ]
    }
   ],
   "source": [
    "from nltk.wsd import lesk\n",
    "print(lesk(sent1_tokens, 'band').definition())\n",
    "print(lesk(sent2_tokens, 'band').definition())"
   ]
  },
  {
   "cell_type": "markdown",
   "metadata": {},
   "source": [
    "Алгоритм Леска ошибся в первом случае,  во втором - определил правильно"
   ]
  },
  {
   "cell_type": "markdown",
   "metadata": {},
   "source": []
  },
  {
   "cell_type": "markdown",
   "metadata": {},
   "source": [
    "<b>4) Найдите гиперонимы для значения (a) и гиперонимы для значения (b)</b>"
   ]
  },
  {
   "cell_type": "code",
   "execution_count": 14,
   "metadata": {
    "collapsed": false
   },
   "outputs": [
    {
     "name": "stdout",
     "output_type": "stream",
     "text": [
      "Synset('social_group.n.01') people sharing some social relation\n",
      "Synset('stripe.n.05') a narrow marking of a different color or texture from the background\n"
     ]
    }
   ],
   "source": [
    "for ss in band[0].hypernyms():\n",
    "    print(ss, ss.definition())\n",
    "for ss in band[2].hypernyms():\n",
    "    print(ss, ss.definition())"
   ]
  },
  {
   "cell_type": "markdown",
   "metadata": {},
   "source": [
    "<b>5) Вычислите наименьшее расстояние между значением band \"группа\" и значениями лексемы music, а также band \"ленточка\" и значениями лексемы accessories.\n",
    "Найти min (d(band: \"группа\", music), d(band: \"группа\", accessories)), а также min (d(band: \"ленточка\", music), d(band: \"ленточка\", accessories))</b>"
   ]
  },
  {
   "cell_type": "code",
   "execution_count": 15,
   "metadata": {
    "collapsed": false
   },
   "outputs": [
    {
     "name": "stdout",
     "output_type": "stream",
     "text": [
      "min (d(band: \"группа\", music): 6\n",
      "closest lemma definition: an artistic form of auditory communication incorporating instrumental or vocal tones in a structured and continuous manner\n",
      "\n",
      "min d(band: \"группа\", accessories)): 9\n",
      "closest lemma definition: a supplementary component that improves capability\n",
      "\n",
      "min (d(band: \"ленточка\", music): 13\n",
      "closest lemma definition: an artistic form of auditory communication incorporating instrumental or vocal tones in a structured and continuous manner\n",
      "\n",
      "min d(band: \"ленточка\", accessories)): 8\n",
      "closest lemma definition: clothing that is worn or carried, but not part of your main clothing\n",
      "\n",
      "min (d(band: \"группа\", music), d(band: \"группа\", accessories)): 6\n",
      "min (d(band: \"ленточка\", music), d(band: \"ленточка\", accessories)): 8\n"
     ]
    }
   ],
   "source": [
    "music = wordnet.synsets('music')\n",
    "acc = wordnet.synsets('accessories')\n",
    "\n",
    "def get_dist_sim(ss1, lexeme):\n",
    "    distances = []\n",
    "    similarities = []\n",
    "    for ss2 in lexeme:\n",
    "        dist = ss1.shortest_path_distance(ss2)\n",
    "        if dist is not None:\n",
    "            distances.append(dist)\n",
    "            sim = ss1.path_similarity(ss2)\n",
    "            similarities.append(sim)\n",
    "    return distances, similarities\n",
    "\n",
    "dist1 = get_dist_sim(band[0], music)[0]\n",
    "print('min (d(band: \"группа\", music): {}'.format(min(dist1)))\n",
    "print('closest lemma definition: {}\\n'.format(music[dist1.index(min(dist1))].definition()))\n",
    "# Правда, здесь выводится только одно ближайшее значение. Их может быть несколько.\n",
    "\n",
    "dist2 = get_dist_sim(band[0], acc)[0]\n",
    "print('min d(band: \"группа\", accessories)): {}'.format(min(dist2)))\n",
    "print('closest lemma definition: {}\\n'.format(acc[dist2.index(min(dist2))].definition()))\n",
    "\n",
    "dist3 = get_dist_sim(band[2], music)[0]\n",
    "print('min (d(band: \"ленточка\", music): {}'.format(min(dist3)))\n",
    "print('closest lemma definition: {}\\n'.format(music[dist3.index(min(dist3))].definition()))\n",
    "\n",
    "dist4 = get_dist_sim(band[2], acc)[0]\n",
    "print('min d(band: \"ленточка\", accessories)): {}'.format(min(dist4)))\n",
    "print('closest lemma definition: {}\\n'.format(acc[dist4.index(min(dist4))].definition()))\n",
    "\n",
    "print('min (d(band: \"группа\", music), d(band: \"группа\", accessories)): {}'.format(min(min(dist1), min(dist2))))\n",
    "print('min (d(band: \"ленточка\", music), d(band: \"ленточка\", accessories)): {}'.format(min(min(dist3), min(dist4))))"
   ]
  },
  {
   "cell_type": "markdown",
   "metadata": {},
   "source": [
    "Кратчайшее расстояние от \"группа\" до music - 6, до accessories - 9, что выглядит логично.\n",
    "Кратчайшее расстояние от \"ленточка\" до music - 13, до accessories - 8, что тоже выглядит ОК"
   ]
  },
  {
   "cell_type": "markdown",
   "metadata": {},
   "source": [
    "\n",
    "\n",
    "<b>6) Вычислить двумя разными способами расстояние:\n",
    "d(band: \"группа\", guitar) и d(computer, laptop)\n",
    "Есть ли разница в расстояниях? Какое из расстояний, по Вашему мнению, в лучшей степени отражает интуитивное представление о семантчиеской близости слов?</b>"
   ]
  },
  {
   "cell_type": "code",
   "execution_count": 16,
   "metadata": {
    "collapsed": false
   },
   "outputs": [
    {
     "name": "stdout",
     "output_type": "stream",
     "text": [
      "Synset('guitar.n.01') a stringed instrument usually having six strings; played by strumming or plucking\n"
     ]
    }
   ],
   "source": [
    "guitar = wordnet.synsets(\"guitar\")\n",
    "for ss in guitar:\n",
    "    print(ss, ss.definition())"
   ]
  },
  {
   "cell_type": "markdown",
   "metadata": {},
   "source": [
    "Посчитаем близость с помощью критериев Path Similarity, Leacock-Chodorow Similarity, Wu-Palmer Similarity, Resnik Similarity, Jiang-Conrath Similarity и Lin Similarity. Для последних трех будем использовать Information Content корпуса Brown."
   ]
  },
  {
   "cell_type": "code",
   "execution_count": 18,
   "metadata": {
    "collapsed": false
   },
   "outputs": [
    {
     "name": "stdout",
     "output_type": "stream",
     "text": [
      "0.07142857142857142\n",
      "0.9985288301111273\n",
      "0.13333333333333333\n",
      "-0.0\n",
      "0.055440448424991545\n",
      "-0.0\n"
     ]
    }
   ],
   "source": [
    "from nltk.corpus import wordnet_ic\n",
    "ic = wordnet_ic.ic('ic-brown.dat')\n",
    "\n",
    "print(band[0].path_similarity(guitar[0]))\n",
    "\n",
    "#Leacock-Chodorow Similarity\n",
    "print(band[0].lch_similarity(guitar[0]))\n",
    "\n",
    "#Wu-Palmer Similarity\n",
    "print(band[0].wup_similarity(guitar[0]))\n",
    "    \n",
    "#Resnik Similarity\n",
    "print(band[0].res_similarity(guitar[0], ic))\n",
    "    \n",
    "#Jiang-Conrath Similarity\n",
    "print(band[0].jcn_similarity(guitar[0], ic))\n",
    "    \n",
    "#Lin Similarity\n",
    "print(band[0].lin_similarity(guitar[0], ic))\n"
   ]
  },
  {
   "cell_type": "code",
   "execution_count": 19,
   "metadata": {
    "collapsed": false
   },
   "outputs": [
    {
     "name": "stdout",
     "output_type": "stream",
     "text": [
      "Synset('computer.n.01') a machine for performing calculations automatically\n",
      "Synset('computer.n.01') []\n",
      "Synset('calculator.n.01') an expert at calculation (or at operating calculating machines)\n",
      "Synset('calculator.n.01') []\n"
     ]
    }
   ],
   "source": [
    "comp = wordnet.synsets('computer')\n",
    "for ss in comp:\n",
    "    print(ss, ss.definition())\n",
    "    print(ss, ss.examples())"
   ]
  },
  {
   "cell_type": "code",
   "execution_count": 20,
   "metadata": {
    "collapsed": false
   },
   "outputs": [
    {
     "name": "stdout",
     "output_type": "stream",
     "text": [
      "Synset('laptop.n.01') a portable computer small enough to use in your lap\n",
      "Synset('laptop.n.01') []\n"
     ]
    }
   ],
   "source": [
    "laptop = wordnet.synsets('laptop', 'n')\n",
    "for ss in laptop:\n",
    "    print(ss, ss.definition())\n",
    "    print(ss, ss.examples())"
   ]
  },
  {
   "cell_type": "code",
   "execution_count": 21,
   "metadata": {
    "collapsed": false
   },
   "outputs": [
    {
     "name": "stdout",
     "output_type": "stream",
     "text": [
      "a machine for performing calculations automatically\n",
      "a portable computer small enough to use in your lap\n",
      "0.2\n",
      "2.0281482472922856\n",
      "0.8181818181818182\n",
      "8.732258636164643\n",
      "1e-300\n",
      "1.7464517272329286e-299\n",
      "an expert at calculation (or at operating calculating machines)\n",
      "a portable computer small enough to use in your lap\n",
      "0.06666666666666667\n",
      "0.9295359586241757\n",
      "0.36363636363636365\n",
      "1.5318337432196856\n",
      "1e-300\n",
      "3.063667486439371e-300\n"
     ]
    }
   ],
   "source": [
    "for ss1 in comp:\n",
    "    print(ss1.definition())\n",
    "    for ss2 in laptop:\n",
    "        print(ss2.definition())\n",
    "        \n",
    "        print(ss1.path_similarity(ss2))\n",
    "\n",
    "        #Leacock-Chodorow Similarity\n",
    "        print(ss1.lch_similarity(ss2))\n",
    "\n",
    "        #Wu-Palmer Similarity\n",
    "        print(ss1.wup_similarity(ss2))\n",
    "\n",
    "        #Resnik Similarity\n",
    "        print(ss1.res_similarity(ss2, ic))\n",
    "\n",
    "        #Jiang-Conrath Similarity\n",
    "        print(ss1.jcn_similarity(ss2, ic))\n",
    "\n",
    "        #Lin Similarity\n",
    "        print(ss1.lin_similarity(ss2, ic))"
   ]
  },
  {
   "cell_type": "markdown",
   "metadata": {},
   "source": [
    "Я не очень поняла, как в примере в задании соотносятся plant: \"растение\", rattlesnake's master) и d(organism, whole). Я предположила, что первая пара - гипероним, а вторая - синонимы. Исходя из этого, выбрала свои слова\n",
    "\n",
    "1) (band: \"группа\", guitar):\n",
    "Wu-Palmer Similarity дает самую интуитивную оценку - ведь эти слова достаточно близки\n",
    "\n",
    "2) computer-laptop (у компьютера два значения, у ноутбука - одно):  \n",
    "    a) laptop + 'a machine for performing calculations automatically' \n",
    "    b) laptop + 'an expert at calculation (or at operating calculating machines)'\n",
    "    - из них интуитивно а) ближе друг к другу, чем b) - и это подтверждается почти всеми метриками (кроме двух последних - Jiang-Conrath Similarity у них одинаковые, а Lin Similarity больше у второй пары\n",
    "\n",
    "        "
   ]
  },
  {
   "cell_type": "raw",
   "metadata": {
    "collapsed": true
   },
   "source": []
  }
 ],
 "metadata": {
  "anaconda-cloud": {},
  "kernelspec": {
   "display_name": "Python [default]",
   "language": "python",
   "name": "python3"
  },
  "language_info": {
   "codemirror_mode": {
    "name": "ipython",
    "version": 3
   },
   "file_extension": ".py",
   "mimetype": "text/x-python",
   "name": "python",
   "nbconvert_exporter": "python",
   "pygments_lexer": "ipython3",
   "version": "3.5.2"
  }
 },
 "nbformat": 4,
 "nbformat_minor": 0
}
