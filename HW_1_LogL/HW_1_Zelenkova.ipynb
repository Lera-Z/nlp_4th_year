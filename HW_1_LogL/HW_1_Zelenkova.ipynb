{
 "cells": [
  {
   "cell_type": "code",
   "execution_count": 144,
   "metadata": {
    "collapsed": true,
    "deletable": true,
    "editable": true
   },
   "outputs": [],
   "source": [
    "import os"
   ]
  },
  {
   "cell_type": "code",
   "execution_count": 145,
   "metadata": {
    "collapsed": false
   },
   "outputs": [],
   "source": [
    "from stop_words import get_stop_words"
   ]
  },
  {
   "cell_type": "code",
   "execution_count": 146,
   "metadata": {
    "collapsed": true
   },
   "outputs": [],
   "source": [
    "stop_words = get_stop_words('russian')"
   ]
  },
  {
   "cell_type": "code",
   "execution_count": 147,
   "metadata": {
    "collapsed": false
   },
   "outputs": [],
   "source": [
    "# stop_words"
   ]
  },
  {
   "cell_type": "code",
   "execution_count": 148,
   "metadata": {
    "collapsed": true,
    "deletable": true,
    "editable": true
   },
   "outputs": [],
   "source": [
    "from pymystem3 import Mystem"
   ]
  },
  {
   "cell_type": "code",
   "execution_count": 149,
   "metadata": {
    "collapsed": false,
    "deletable": true,
    "editable": true
   },
   "outputs": [],
   "source": [
    "mystem = Mystem()"
   ]
  },
  {
   "cell_type": "code",
   "execution_count": 150,
   "metadata": {
    "collapsed": true,
    "deletable": true,
    "editable": true
   },
   "outputs": [],
   "source": [
    "def read_txt(path):\n",
    "    for root, dirs, files in os.walk(path):\n",
    "        for filename in files:\n",
    "            open_name = os.path.join(root, filename)\n",
    "            with open(open_name, 'r', encoding='utf-8') as f:\n",
    "                text = f.read()\n",
    "                yield text"
   ]
  },
  {
   "cell_type": "code",
   "execution_count": 151,
   "metadata": {
    "collapsed": false,
    "deletable": true,
    "editable": true
   },
   "outputs": [
    {
     "name": "stdout",
     "output_type": "stream",
     "text": [
      "Отличный отель для бюджетного отдыха! приехали в самом начале мая, когда заполнен отель был далеко не на 100% и получили массу удовольствия! Очень чистая, ухоженная территория, замечательные, чистые номера (наш назывался фемили делюкс, был угловым, окна выходили на дорожку и забор, за которым, по-моему, ничего не находилось, поэтому неважная звукоизоляция нас совсем не беспокоила. Возможно, номера маловаты, но нам двоим нашего двухкомнатного хватило выше крыши). Персонал отеля - выше всяких похвал! Приветливые, старательные - на мой взгляд, просто безупречные. Где-то к 5-6 мая народу в отеле прибавилось, появилась \"Жанна из Донецка\" и компания, которая вспугнула своей активностью отдыхающих болгар, но на качестве работы персонала это никак не отразилось. В общем, настоящие молодцы! Несмотря на то, что отель практически на 100% \"заточен\" под нас, русских-украинцев, публика собралась вполне приличная, я, по крайней мере, \"Тагила\" там не заметила (Жанна из Донецка напоминала его весьма отдаленно). Единственным неприятным моментом была \"стычка\" с главным аниматором - таким черненьким мальчиком, не говорящим по-русски - когда аниматор Настя вихрем ворвалась в беседу нашей компании с \"претензией\" (хотя и шутливой), что мы не посетили их шоу, мой муж, чтоб поскорее от нее избавиться, предложил ей пойти в бар и принести нам колы (признаем, что это было не самым тактичным способом от нее избавиться, но ничего другого в тот момент в голову не пришло). Настя удалилась и через некоторое время вернулась с этим самым черненьким мальчиком, который на очень повышенных тонах заявил, \"что мы приехали в отель с анимацией, и нечего здесь посылать аниматоров за напитками\". Его тон и выражение лица заставили всю нашу большую компанию умолкнуть и даже приоткрыть рты от удивления. Инцидент был достаточно быстро исчерпан, НО не стараниями аниматоров, а стараниями моего мужа. После этого мы пришли к однозначному выводу, что черненькому мальчику руководить организацией развлечений отдыхающих не рекомендуется, а Насте нужно быть все-таки менее навязчивой. Остальным девочкам - аниматорам - огромное спасибо, они справлялись со своей работой более, чем хорошо. В общем, спасибо лично господину Музенидису и всем его сотрудникам за отличный отдых! Очень надеемся, что с другими отдыхающими мелких неприятностей, которые произошли с нами, не случится!\n"
     ]
    }
   ],
   "source": [
    "for i in read_txt('./corpus/Otzyvy'):\n",
    "    print(i)\n",
    "    break"
   ]
  },
  {
   "cell_type": "markdown",
   "metadata": {
    "deletable": true,
    "editable": true
   },
   "source": [
    "## Log Likelihood"
   ]
  },
  {
   "cell_type": "code",
   "execution_count": 152,
   "metadata": {
    "collapsed": false,
    "deletable": true,
    "editable": true
   },
   "outputs": [],
   "source": [
    "from collections import defaultdict\n",
    "\n",
    "freq_otzyvy = defaultdict(int)\n",
    "freq_lenta = defaultdict(int)\n",
    "\n",
    "for i in read_txt('./corpus/Otzyvy'):\n",
    "    lemmas = mystem.lemmatize(i)\n",
    "    for lemma in lemmas:\n",
    "        if any([x.isalpha() for x in lemma]):\n",
    "            if lemma not in stop_words:\n",
    "                freq_otzyvy[lemma] += 1\n",
    "\n",
    "for i in read_txt('./corpus/Lenta'):\n",
    "    lemmas = mystem.lemmatize(i)\n",
    "    for lemma in lemmas:\n",
    "        if any([x.isalpha() for x in lemma]):\n",
    "            if lemma not in stop_words:\n",
    "                freq_lenta[lemma] += 1"
   ]
  },
  {
   "cell_type": "code",
   "execution_count": 153,
   "metadata": {
    "collapsed": false
   },
   "outputs": [
    {
     "data": {
      "text/plain": [
       "[('отель', 129),\n",
       " ('номер', 33),\n",
       " ('пляж', 23),\n",
       " ('море', 22),\n",
       " ('бассейн', 20),\n",
       " ('отдых', 20),\n",
       " ('большой', 20),\n",
       " ('свой', 19),\n",
       " ('отдыхать', 17),\n",
       " ('вечер', 17)]"
      ]
     },
     "execution_count": 153,
     "metadata": {},
     "output_type": "execute_result"
    }
   ],
   "source": [
    "sorted(freq_otzyvy.items(), key=lambda x: x[1], reverse=True)[:10]"
   ]
  },
  {
   "cell_type": "code",
   "execution_count": 154,
   "metadata": {
    "collapsed": false
   },
   "outputs": [
    {
     "data": {
      "text/plain": [
       "[('заявлять', 388),\n",
       " ('свой', 385),\n",
       " ('сообщать', 326),\n",
       " ('становиться', 253),\n",
       " ('дело', 246),\n",
       " ('президент', 239),\n",
       " ('слово', 239),\n",
       " ('власть', 202),\n",
       " ('россия', 184),\n",
       " ('ранее', 180)]"
      ]
     },
     "execution_count": 154,
     "metadata": {},
     "output_type": "execute_result"
    }
   ],
   "source": [
    "sorted(freq_lenta.items(), key=lambda x: x[1], reverse=True)[:10]"
   ]
  },
  {
   "cell_type": "code",
   "execution_count": 155,
   "metadata": {
    "collapsed": false
   },
   "outputs": [],
   "source": [
    "corpus_otzyvy_size = sum(freq_otzyvy.values())\n",
    "corpus_lenta_size = sum(freq_lenta.values())"
   ]
  },
  {
   "cell_type": "code",
   "execution_count": 156,
   "metadata": {
    "collapsed": false,
    "deletable": true,
    "editable": true
   },
   "outputs": [
    {
     "data": {
      "text/plain": [
       "(3620, 64406)"
      ]
     },
     "execution_count": 156,
     "metadata": {},
     "output_type": "execute_result"
    }
   ],
   "source": [
    "corpus_otzyvy_size, corpus_lenta_size"
   ]
  },
  {
   "cell_type": "markdown",
   "metadata": {
    "deletable": true,
    "editable": true
   },
   "source": [
    "Corpus1 - отзывы, Corpus2 - лента"
   ]
  },
  {
   "cell_type": "code",
   "execution_count": 157,
   "metadata": {
    "collapsed": true
   },
   "outputs": [],
   "source": [
    "import math\n",
    "\n",
    "def LL(freq_corpus1, freq_corpus2, word):\n",
    "    e1 = len(freq_corpus1) * (freq_corpus1[word] + freq_corpus2[word]) / (len(freq_corpus1) + len(freq_corpus2))\n",
    "    e2 = len(freq_corpus2) * (freq_corpus1[word] + freq_corpus2[word]) / (len(freq_corpus1) + len(freq_corpus2))\n",
    "    ll = 2 * (freq_corpus1[word] * math.log(freq_corpus1[word]/e1) + freq_corpus2[word] * math.log(freq_corpus2[word]/e2))\n",
    "    return ll"
   ]
  },
  {
   "cell_type": "code",
   "execution_count": 158,
   "metadata": {
    "collapsed": false
   },
   "outputs": [],
   "source": [
    "ll_rank = defaultdict(int)\n",
    "\n",
    "for word in freq_otzyvy.keys() & freq_lenta.keys():\n",
    "    ll_rank[word] = LL(freq_otzyvy, freq_lenta, word)\n",
    "    \n",
    "sorted_ll_rank = [z[0] for z in sorted(ll_rank.items(), key=lambda x: x[1], reverse=True)]"
   ]
  },
  {
   "cell_type": "markdown",
   "metadata": {},
   "source": [
    "## Top-10 and bottom-10"
   ]
  },
  {
   "cell_type": "code",
   "execution_count": 159,
   "metadata": {
    "collapsed": false
   },
   "outputs": [],
   "source": [
    "top10 = tuple(sorted_ll_rank[:10])"
   ]
  },
  {
   "cell_type": "code",
   "execution_count": 160,
   "metadata": {
    "collapsed": false
   },
   "outputs": [],
   "source": [
    "bottom10 = tuple(sorted_ll_rank[-10:])"
   ]
  },
  {
   "cell_type": "code",
   "execution_count": 170,
   "metadata": {
    "collapsed": true
   },
   "outputs": [],
   "source": [
    "## Я выбрала такие слова:"
   ]
  },
  {
   "cell_type": "code",
   "execution_count": 161,
   "metadata": {
    "collapsed": true
   },
   "outputs": [],
   "source": [
    "my_choice10 = ('отель', 'отдых', 'аэропорт', 'море', 'бассейн', 'вода', 'номер', 'ресторан', 'питание', 'отзыв')"
   ]
  },
  {
   "cell_type": "code",
   "execution_count": 162,
   "metadata": {
    "collapsed": true
   },
   "outputs": [],
   "source": [
    "words = top10 + bottom10 + my_choice10"
   ]
  },
  {
   "cell_type": "code",
   "execution_count": 163,
   "metadata": {
    "collapsed": false
   },
   "outputs": [
    {
     "data": {
      "text/plain": [
       "0.4"
      ]
     },
     "execution_count": 163,
     "metadata": {},
     "output_type": "execute_result"
    }
   ],
   "source": [
    "len(set(top10) & set(my_choice10)) / 10"
   ]
  },
  {
   "cell_type": "code",
   "execution_count": 164,
   "metadata": {
    "collapsed": false
   },
   "outputs": [
    {
     "name": "stdout",
     "output_type": "stream",
     "text": [
      "Слово           | Частота в отзывах | Частота в ленте | LL      | LL rank\n",
      "=========================================================================\n",
      "отель           |               129 |               2 | 470.902 |       1\n",
      "заявлять        |                 2 |             388 | 107.853 |       2\n",
      "бассейн         |                20 |               1 |  68.399 |       3\n",
      "отдых           |                20 |               1 |  68.399 |       4\n",
      "становиться     |                 3 |             253 |  60.492 |       5\n",
      "дело            |                 3 |             246 |  58.398 |       6\n",
      "море            |                22 |               6 |  56.570 |       7\n",
      "слово           |                 3 |             239 |  56.309 |       8\n",
      "россия          |                 1 |             184 |  50.802 |       9\n",
      "украина         |                 1 |             168 |  45.816 |      10\n",
      "=========================================================================\n",
      "род             |                 1 |               6 |   0.002 |     981\n",
      "направляться    |                 1 |               6 |   0.002 |     982\n",
      "выставлять      |                 1 |               6 |   0.002 |     983\n",
      "руководить      |                 1 |               6 |   0.002 |     984\n",
      "слабый          |                 1 |               6 |   0.002 |     985\n",
      "услышать        |                 1 |               6 |   0.002 |     986\n",
      "познакомиться   |                 1 |               6 |   0.002 |     987\n",
      "яйцо            |                 1 |               6 |   0.002 |     988\n",
      "точно           |                 1 |               6 |   0.002 |     989\n",
      "час             |                 5 |              28 |   0.001 |     990\n",
      "=========================================================================\n",
      "отель           |               129 |               2 | 470.902 |       1\n",
      "отдых           |                20 |               1 |  68.399 |       4\n",
      "аэропорт        |                10 |               7 |  17.285 |      53\n",
      "море            |                22 |               6 |  56.570 |       7\n",
      "бассейн         |                20 |               1 |  68.399 |       3\n",
      "вода            |                10 |               7 |  17.285 |      52\n",
      "номер           |                33 |              46 |  33.082 |      19\n",
      "ресторан        |                15 |               4 |  38.823 |      14\n",
      "питание         |                12 |               4 |  28.967 |      23\n",
      "отзыв           |                12 |              10 |  18.584 |      40\n"
     ]
    }
   ],
   "source": [
    "print('{:15s} | {:17s} | {:15s} | {:7s} | {:7s}'.format(\n",
    "    \"Слово\", \"Частота в отзывах\", \"Частота в ленте\", \"LL\", \"LL rank\"\n",
    "))\n",
    "for i, word in enumerate(words):\n",
    "    if i%10 == 0:\n",
    "        print(\"=\"*73)\n",
    "    print('{:15s} | {:17d} | {:15d} | {:7.3f} | {:7d}'.format(\n",
    "        word, freq_otzyvy[word], freq_lenta[word], ll_rank[word], sorted_ll_rank.index(word) + 1\n",
    "    ))"
   ]
  },
  {
   "cell_type": "markdown",
   "metadata": {
    "deletable": true,
    "editable": true
   },
   "source": [
    "## Chi-2"
   ]
  },
  {
   "cell_type": "code",
   "execution_count": 165,
   "metadata": {
    "collapsed": true,
    "deletable": true,
    "editable": true
   },
   "outputs": [],
   "source": [
    "import pandas as pd\n",
    "import numpy as np"
   ]
  },
  {
   "cell_type": "code",
   "execution_count": 166,
   "metadata": {
    "collapsed": false,
    "deletable": true,
    "editable": true
   },
   "outputs": [],
   "source": [
    "from scipy.stats import chi2_contingency"
   ]
  },
  {
   "cell_type": "code",
   "execution_count": 167,
   "metadata": {
    "collapsed": false,
    "deletable": true,
    "editable": true
   },
   "outputs": [],
   "source": [
    "def chi(freq_corpus1, freq_corpus2, word):\n",
    "    obs = np.array([\n",
    "        [freq_corpus1[word], freq_corpus2[word]],\n",
    "        [sum(freq_corpus1.values()) - freq_corpus1[word], sum(freq_corpus2.values()) - freq_corpus2[word]]\n",
    "        ])\n",
    "    return chi2_contingency(obs)[0]"
   ]
  },
  {
   "cell_type": "code",
   "execution_count": 168,
   "metadata": {
    "collapsed": false
   },
   "outputs": [],
   "source": [
    "chi_rank = defaultdict(int)\n",
    "\n",
    "for word in freq_otzyvy.keys() & freq_lenta.keys():\n",
    "    chi_rank[word] = chi(freq_otzyvy, freq_lenta, word)\n",
    "    \n",
    "sorted_chi_rank = [z[0] for z in sorted(chi_rank.items(), key=lambda x: x[1], reverse=True)]"
   ]
  },
  {
   "cell_type": "code",
   "execution_count": 171,
   "metadata": {
    "collapsed": false,
    "deletable": true,
    "editable": true
   },
   "outputs": [
    {
     "name": "stdout",
     "output_type": "stream",
     "text": [
      "Слово           | Частота в отзывах | Частота в ленте | Chi     | Chi rank\n",
      "=========================================================================\n",
      "отель           |               129 |               2 | 2242.020 |       1\n",
      "заявлять        |                 2 |             388 |  17.055 |     128\n",
      "бассейн         |                20 |               1 | 319.476 |       2\n",
      "отдых           |                20 |               1 | 319.476 |       3\n",
      "становиться     |                 3 |             253 |   7.975 |     210\n",
      "дело            |                 3 |             246 |   7.606 |     214\n",
      "море            |                22 |               6 | 283.942 |       4\n",
      "слово           |                 3 |             239 |   7.239 |     217\n",
      "россия          |                 1 |             184 |   7.491 |     216\n",
      "украина         |                 1 |             168 |   6.611 |     223\n",
      "=========================================================================\n",
      "род             |                 1 |               6 |   0.046 |     875\n",
      "направляться    |                 1 |               6 |   0.046 |     876\n",
      "выставлять      |                 1 |               6 |   0.046 |     877\n",
      "руководить      |                 1 |               6 |   0.046 |     878\n",
      "слабый          |                 1 |               6 |   0.046 |     879\n",
      "услышать        |                 1 |               6 |   0.046 |     880\n",
      "познакомиться   |                 1 |               6 |   0.046 |     881\n",
      "яйцо            |                 1 |               6 |   0.046 |     882\n",
      "точно           |                 1 |               6 |   0.046 |     883\n",
      "час             |                 5 |              28 |   4.531 |     263\n",
      "=========================================================================\n",
      "отель           |               129 |               2 | 2242.020 |       1\n",
      "отдых           |                20 |               1 | 319.476 |       3\n",
      "аэропорт        |                10 |               7 |  86.278 |      18\n",
      "море            |                22 |               6 | 283.942 |       4\n",
      "бассейн         |                20 |               1 | 319.476 |       2\n",
      "вода            |                10 |               7 |  86.278 |      17\n",
      "номер           |                33 |              46 | 201.392 |       6\n",
      "ресторан        |                15 |               4 | 190.124 |       7\n",
      "питание         |                12 |               4 | 140.695 |      10\n",
      "отзыв           |                12 |              10 |  96.288 |      13\n"
     ]
    }
   ],
   "source": [
    "print('{:15s} | {:17s} | {:15s} | {:7s} | {:7s}'.format(\n",
    "    \"Слово\", \"Частота в отзывах\", \"Частота в ленте\", \"Chi\", \"Chi rank\"\n",
    "))\n",
    "for i, word in enumerate(words):\n",
    "    if i%10 == 0:\n",
    "        print(\"=\"*73)\n",
    "    print('{:15s} | {:17d} | {:15d} | {:7.3f} | {:7d}'.format(\n",
    "        word, freq_otzyvy[word], freq_lenta[word], chi_rank[word], sorted_chi_rank.index(word) + 1\n",
    "    ))"
   ]
  },
  {
   "cell_type": "code",
   "execution_count": null,
   "metadata": {
    "collapsed": true
   },
   "outputs": [],
   "source": []
  }
 ],
 "metadata": {
  "anaconda-cloud": {},
  "kernelspec": {
   "display_name": "Python [default]",
   "language": "python",
   "name": "python3"
  },
  "language_info": {
   "codemirror_mode": {
    "name": "ipython",
    "version": 3
   },
   "file_extension": ".py",
   "mimetype": "text/x-python",
   "name": "python",
   "nbconvert_exporter": "python",
   "pygments_lexer": "ipython3",
   "version": "3.5.2"
  }
 },
 "nbformat": 4,
 "nbformat_minor": 2
}
